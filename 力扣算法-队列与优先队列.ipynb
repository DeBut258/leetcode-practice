{
 "cells": [
  {
   "cell_type": "markdown",
   "id": "8593167d",
   "metadata": {},
   "source": [
    "#### 队列（Queue）的定义"
   ]
  },
  {
   "cell_type": "markdown",
   "id": "e2199e8c",
   "metadata": {},
   "source": [
    "**定义**：队列是一种数据结构，遵循“先进先出”（FIFO, First In First Out）的原则。\n",
    "就像排队买票，最先排队的人最先买到票，最后排队的人最后买到票。"
   ]
  },
  {
   "cell_type": "markdown",
   "id": "300fd20d",
   "metadata": {},
   "source": [
    "**例子**：想象一下在电影院门口排队买票。队伍的第一个人先买到票，然后离开队伍，接着第二个人成为第一个，依此类推。这个过程体现了队列的特点：谁先来，谁先得到服务。"
   ]
  },
  {
   "cell_type": "markdown",
   "id": "a4db0b35",
   "metadata": {},
   "source": [
    "#### 优先队列（Priority Queue）的定义"
   ]
  },
  {
   "cell_type": "markdown",
   "id": "02795d4b",
   "metadata": {},
   "source": [
    "**定义**：优先队列是一种特殊的队列，每个元素都有一个优先级，元素按照优先级高低出队。优先级高的元素会先出队，即使它后来加入。"
   ]
  },
  {
   "cell_type": "markdown",
   "id": "96c55d9c",
   "metadata": {},
   "source": [
    "**例子**：设想你在医院急诊室排队看医生。虽然你早到了，但如果有一个病情更严重的病人后来到达，他会比你先看医生。这就是优先队列的特点：优先级高的元素（病情严重的病人）先得到服务。"
   ]
  },
  {
   "cell_type": "markdown",
   "id": "b3a32c77",
   "metadata": {},
   "source": [
    "#### 定义总结"
   ]
  },
  {
   "cell_type": "markdown",
   "id": "96083de9",
   "metadata": {},
   "source": [
    "**队列**：就像排队买票，先来的人先得到服务。\n",
    "**优先队列**：就像医院急诊室，病情严重的病人先得到服务，不论他什么时候到。"
   ]
  }
 ],
 "metadata": {
  "kernelspec": {
   "display_name": "Python 3 (ipykernel)",
   "language": "python",
   "name": "python3"
  },
  "language_info": {
   "codemirror_mode": {
    "name": "ipython",
    "version": 3
   },
   "file_extension": ".py",
   "mimetype": "text/x-python",
   "name": "python",
   "nbconvert_exporter": "python",
   "pygments_lexer": "ipython3",
   "version": "3.9.12"
  }
 },
 "nbformat": 4,
 "nbformat_minor": 5
}
