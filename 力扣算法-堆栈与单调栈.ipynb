{
 "cells": [
  {
   "cell_type": "markdown",
   "id": "23294f98",
   "metadata": {},
   "source": [
    "### 堆栈与单调栈 总述"
   ]
  },
  {
   "cell_type": "markdown",
   "id": "2b8ff7c2",
   "metadata": {},
   "source": [
    "当谈论计算机数据结构时，\"栈\" 是一个常见的概念。\n",
    "可以把栈想象成一堆盘子，只能在最顶端放盘子或者从最顶端取出盘子。堆栈与单调栈都是栈的一种应用，但在某些方面有所不同。"
   ]
  },
  {
   "cell_type": "markdown",
   "id": "f2b07b92",
   "metadata": {},
   "source": [
    "堆栈(Stack):\n",
    "\n",
    "堆栈是一种数据结构，它遵循\"先进后出\"（LIFO）的原则。这意味着最后放入堆栈的数据项会被最先取出。\n",
    "想象一下你在一个盘子堆里放东西，你放入的最后一个盘子会是第一个拿出来的。\n",
    "堆栈常用于管理函数调用、表达式求值、内存分配等"
   ]
  },
  {
   "cell_type": "markdown",
   "id": "dab1132e",
   "metadata": {},
   "source": [
    "单调栈(Monotonic Stack):\n",
    "    \n",
    "单调栈是一种特殊类型的栈，它在处理一些问题时可以帮助我们保持或者维护一种单调性，通常是单调递增或者单调递减。\n",
    "想象一下你在一个盘子堆里放东西，但是你只能放入比前一个盘子更小（或更大）的东西。\n",
    "单调栈通常用于解决一些需要寻找元素左右第一个比自己大（或小）的问题，比如找出数组中每个元素的下一个更大元素。"
   ]
  }
 ],
 "metadata": {
  "kernelspec": {
   "display_name": "Python 3 (ipykernel)",
   "language": "python",
   "name": "python3"
  },
  "language_info": {
   "codemirror_mode": {
    "name": "ipython",
    "version": 3
   },
   "file_extension": ".py",
   "mimetype": "text/x-python",
   "name": "python",
   "nbconvert_exporter": "python",
   "pygments_lexer": "ipython3",
   "version": "3.9.12"
  }
 },
 "nbformat": 4,
 "nbformat_minor": 5
}
