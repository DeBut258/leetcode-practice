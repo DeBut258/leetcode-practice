{
 "cells": [
  {
   "cell_type": "code",
   "execution_count": 1,
   "id": "7e8d1adf",
   "metadata": {},
   "outputs": [],
   "source": [
    "# 链节点类\n",
    "class ListNode:\n",
    "    def __init__(self, val=0, next=None):\n",
    "        self.val = val\n",
    "        self.next = next\n",
    "\n",
    "# 链表类\n",
    "class LinkedList:\n",
    "    def __init__(self):\n",
    "        self.head = None"
   ]
  },
  {
   "cell_type": "markdown",
   "id": "cdfc0e74",
   "metadata": {},
   "source": [
    "### 设计链表"
   ]
  },
  {
   "cell_type": "markdown",
   "id": "2b821c05",
   "metadata": {},
   "source": [
    "可以选择使用单链表或者双链表，设计并实现自己的链表。\n",
    "\n",
    "单链表中的节点应该具备两个属性：val 和 next 。val 是当前节点的值，next 是指向下一个节点的指针/引用。\n",
    "\n",
    "如果是双向链表，则还需要属性 prev 以指示链表中的上一个节点。假设链表中的所有节点下标从 0 开始。\n",
    "\n",
    "实现 MyLinkedList 类：\n",
    "\n",
    "• MyLinkedList() 初始化 MyLinkedList 对象。\n",
    "• int get(int index) 获取链表中下标为 index 的节点的值。如果下标无效，则返回 -1 。\n",
    "• void addAtHead(int val) 将一个值为 val 的节点插入到链表中第一个元素之前。在插入完成后，新节点会成为链表的第一个节点。\n",
    "• void addAtTail(int val) 将一个值为 val 的节点追加到链表中作为链表的最后一个元素。\n",
    "• void addAtIndex(int index, int val) 将一个值为 val 的节点插入到链表中下标为 index  的节点之前。如果 index 等于链表的长度，那么该节点会被追加到链表的末尾。如果 index 比长度更大，该节点将 不会插入 到链表中。\n",
    "• void deleteAtIndex(int index) 如果下标有效，则删除链表中下标为 index 的节点。\n",
    "\n",
    "示例\n",
    "输入\n",
    "[ \"MyLinkedList\", \"addAtHead\", \"addAtTail\", \"addAtIndex\", \"get\", \"deleteAtIndex\", \"get\" ]\n",
    "[ [], [1], [3], [1, 2], [1], [1], [1] ]\n",
    "输出\n",
    "[ null, null, null, null, 2, null, 3 ]\n",
    "\n",
    "解释\n",
    "MyLinkedList myLinkedList = new MyLinkedList();\n",
    "myLinkedList.addAtHead(1);\n",
    "myLinkedList.addAtTail(3);\n",
    "myLinkedList.addAtIndex(1, 2);    // 链表变为 1->2->3\n",
    "myLinkedList.get(1);              // 返回 2\n",
    "myLinkedList.deleteAtIndex(1);    // 现在，链表变为 1->3\n",
    "myLinkedList.get(1);              // 返回 3\n",
    "\n",
    "提示：\n",
    "\n",
    "•0 <= index, val <= 1000\n",
    "•请不要使用内置的 LinkedList 库。\n",
    "•调用 get、addAtHead、addAtTail、addAtIndex 和 deleteAtIndex 的次数不超过 2000 。"
   ]
  },
  {
   "cell_type": "code",
   "execution_count": 3,
   "id": "d1739fd4",
   "metadata": {
    "scrolled": true
   },
   "outputs": [
    {
     "name": "stdout",
     "output_type": "stream",
     "text": [
      "Added 1 at the head.\n",
      "Added 3 at the tail.\n",
      "Added 2 at index 1.\n",
      "2\n",
      "Deleted node at index 1.\n",
      "3\n"
     ]
    }
   ],
   "source": [
    "class ListNode:\n",
    "    def __init__(self, val=0, next=None):\n",
    "        # 定义链表节点的结构，每个节点包含一个值和一个指向下一个节点的指针\n",
    "        self.val = val\n",
    "        self.next = next\n",
    "\n",
    "class MyLinkedList:\n",
    "    def __init__(self):\n",
    "        \"\"\"\n",
    "        初始化链表，头节点为空，链表长度为0\n",
    "        \"\"\"\n",
    "        self.head = None\n",
    "        self.size = 0\n",
    "\n",
    "    def get(self, index: int) -> int:\n",
    "        \"\"\"\n",
    "        获取链表中指定索引的节点的值，如果索引无效，则返回-1\n",
    "        \"\"\"\n",
    "        if index < 0 or index >= self.size:\n",
    "            return -1\n",
    "        curr = self.head\n",
    "        for _ in range(index):\n",
    "            curr = curr.next\n",
    "        return curr.val\n",
    "\n",
    "    def addAtHead(self, val: int) -> None:\n",
    "        \"\"\"\n",
    "        在链表头部插入一个值为val的节点\n",
    "        \"\"\"\n",
    "        # 创建新节点，将其指向当前头节点，然后将头节点指向新节点\n",
    "        self.head = ListNode(val, self.head)\n",
    "        self.size += 1\n",
    "        print(f\"Added {val} at the head.\")\n",
    "\n",
    "    def addAtTail(self, val: int) -> None:\n",
    "        \"\"\"\n",
    "        在链表尾部追加一个值为val的节点\n",
    "        \"\"\"\n",
    "        # 如果链表为空，直接将头节点指向新节点\n",
    "        if not self.head:\n",
    "            self.head = ListNode(val)\n",
    "        else:\n",
    "            # 否则找到链表末尾，将末尾节点的next指针指向新节点\n",
    "            curr = self.head\n",
    "            while curr.next:\n",
    "                curr = curr.next\n",
    "            curr.next = ListNode(val)\n",
    "        self.size += 1\n",
    "        print(f\"Added {val} at the tail.\")\n",
    "\n",
    "    def addAtIndex(self, index: int, val: int) -> None:\n",
    "        \"\"\"\n",
    "        在链表的指定索引处插入一个值为val的节点\n",
    "        如果索引等于链表长度，节点将被追加到末尾\n",
    "        如果索引大于长度，则节点不会被插入\n",
    "        \"\"\"\n",
    "        if index < 0 or index > self.size:\n",
    "            return\n",
    "        if index == 0:\n",
    "            # 在头部插入节点\n",
    "            self.addAtHead(val)\n",
    "        else:\n",
    "            # 在中间插入节点\n",
    "            curr = self.head\n",
    "            for _ in range(index - 1):\n",
    "                curr = curr.next\n",
    "            curr.next = ListNode(val, curr.next)\n",
    "            self.size += 1\n",
    "            print(f\"Added {val} at index {index}.\")\n",
    "\n",
    "    def deleteAtIndex(self, index: int) -> None:\n",
    "        \"\"\"\n",
    "        Delete the index-th node in the linked list, if the index is valid.\n",
    "        删除链表中指定索引的节点，如果索引有效的话\n",
    "        \"\"\"\n",
    "        if index < 0 or index >= self.size:\n",
    "            return\n",
    "        if index == 0:\n",
    "            # 删除头节点\n",
    "            self.head = self.head.next\n",
    "        else:\n",
    "            # 删除中间或尾部节点\n",
    "            curr = self.head\n",
    "            for _ in range(index - 1):\n",
    "                curr = curr.next\n",
    "            curr.next = curr.next.next\n",
    "        self.size -= 1\n",
    "        print(f\"Deleted node at index {index}.\")\n",
    "\n",
    "# 测试代码\n",
    "# 创建链表对象\n",
    "myLinkedList = MyLinkedList()\n",
    "# 在头部添加节点\n",
    "myLinkedList.addAtHead(1)\n",
    "# 在尾部添加节点\n",
    "myLinkedList.addAtTail(3)\n",
    "# 在索引1处插入节点\n",
    "myLinkedList.addAtIndex(1, 2)    # 链表变为 1->2->3\n",
    "# 获取索引1处节点的值\n",
    "print(myLinkedList.get(1))       # 返回 2\n",
    "# 删除索引1处的节点\n",
    "myLinkedList.deleteAtIndex(1)    # 现在，链表变为 1->3\n",
    "# 再次获取索引1处节点的值\n",
    "print(myLinkedList.get(1))       # 返回 3"
   ]
  },
  {
   "cell_type": "markdown",
   "id": "04ce5a46",
   "metadata": {},
   "source": [
    "### 反转链表"
   ]
  },
  {
   "cell_type": "markdown",
   "id": "f3835342",
   "metadata": {},
   "source": [
    "要反转一个单链表，需要从**头节点**开始，依次将每个节点的指针指向它的前一个节点。\n",
    "为了完成这个操作，需要记录当前节点、前一个节点和下一个节点。"
   ]
  },
  {
   "cell_type": "markdown",
   "id": "28d6a662",
   "metadata": {},
   "source": [
    "解题的基本思路：\n",
    "\n",
    "①定义三个指针：prev、curr 和 next，分别代表前一个节点、当前节点和下一个节点。\n",
    "②初始化 prev 为 None，curr 为头节点 head。\n",
    "③开始遍历链表，遍历过程中，每次都将 curr 的指针指向 prev，然后更新 prev、curr 和 next 的位置。\n",
    "④遍历完整个链表后，prev 就会指向原链表的最后一个节点，也就是反转后链表的头节点。"
   ]
  },
  {
   "cell_type": "code",
   "execution_count": 4,
   "id": "b939baa0",
   "metadata": {},
   "outputs": [
    {
     "name": "stdout",
     "output_type": "stream",
     "text": [
      "5 -> 4 -> 3 -> 2 -> 1 -> None\n"
     ]
    }
   ],
   "source": [
    "class ListNode: # 定义了一个 ListNode 类来表示链表节点\n",
    "    def __init__(self, val=0, next=None):\n",
    "        self.val = val\n",
    "        self.next = next\n",
    "\n",
    "def reverseLinkedList(head: ListNode) -> ListNode: # 反转链表函数\n",
    "    # 初始化 prev 为 None，curr 为头节点\n",
    "    prev = None\n",
    "    curr = head\n",
    "    \n",
    "    # 开始遍历链表\n",
    "    while curr:\n",
    "        # 保存下一个节点的指针\n",
    "        next_node = curr.next\n",
    "        # 反转当前节点的指针，指向前一个节点\n",
    "        curr.next = prev\n",
    "        # 更新 prev 和 curr 的位置，向前移动一步\n",
    "        prev = curr\n",
    "        curr = next_node\n",
    "    \n",
    "    # 循环结束后，prev 就指向反转后的头节点\n",
    "    return prev\n",
    "\n",
    "# 测试代码\n",
    "# 构建链表 [1,2,3,4,5]\n",
    "head = ListNode(1)\n",
    "current = head\n",
    "for i in range(2, 6):\n",
    "    current.next = ListNode(i)\n",
    "    current = current.next\n",
    "\n",
    "# 反转链表\n",
    "reversed_head = reverseLinkedList(head)\n",
    "\n",
    "# 输出反转后的链表\n",
    "while reversed_head:\n",
    "    print(reversed_head.val, end=\" -> \")\n",
    "    reversed_head = reversed_head.next\n",
    "print(\"None\")"
   ]
  },
  {
   "cell_type": "markdown",
   "id": "a505a207",
   "metadata": {},
   "source": [
    "### 移除链表元素"
   ]
  },
  {
   "cell_type": "markdown",
   "id": "5b2fb4d6",
   "metadata": {},
   "source": [
    "要删除链表中所有值为特定值的节点，需要遍历链表，并且检查每个节点的值是否等于给定的值。如果节点的值等于给定的值，则删除该节点。"
   ]
  },
  {
   "cell_type": "markdown",
   "id": "fa82d089",
   "metadata": {},
   "source": [
    "解题的基本思路：\n",
    "\n",
    "①使用两个指针 prev 和 curr 分别指向当前节点的前一个节点和当前节点。\n",
    "②遍历链表，当当前节点的值等于给定的值时，将前一个节点的指针指向当前节点的下一个节点，即跳过当前节点。\n",
    "③更新 prev 和 curr 指针的位置，向后移动一步。\n",
    "④当遍历完整个链表后，返回新的头节点。"
   ]
  },
  {
   "cell_type": "code",
   "execution_count": 5,
   "id": "bf9f1d3f",
   "metadata": {},
   "outputs": [
    {
     "name": "stdout",
     "output_type": "stream",
     "text": [
      "1 -> 2 -> 3 -> 4 -> 5 -> None\n"
     ]
    }
   ],
   "source": [
    "class ListNode:\n",
    "    def __init__(self, val=0, next=None):\n",
    "        self.val = val\n",
    "        self.next = next\n",
    "\n",
    "def removeElements(head: ListNode, val: int) -> ListNode:\n",
    "    # 创建一个虚拟头节点，简化删除操作\n",
    "    dummy = ListNode(-1)\n",
    "    dummy.next = head\n",
    "    \n",
    "    # 初始化 prev 和 curr 指针\n",
    "    prev = dummy\n",
    "    curr = head\n",
    "    \n",
    "    # 开始遍历链表\n",
    "    while curr:\n",
    "        # 如果当前节点的值等于给定值，删除当前节点\n",
    "        if curr.val == val:\n",
    "            prev.next = curr.next\n",
    "        else:\n",
    "            # 否则更新 prev 指针\n",
    "            prev = curr\n",
    "        # 更新 curr 指针\n",
    "        curr = curr.next\n",
    "    \n",
    "    # 返回新的头节点，注意这里返回的是虚拟头节点的下一个节点\n",
    "    return dummy.next\n",
    "\n",
    "\"\"\"测试代码\"\"\"\n",
    "# 构建链表 [1,2,6,3,4,5,6]\n",
    "head = ListNode(1)\n",
    "current = head\n",
    "for val in [2, 6, 3, 4, 5, 6]:\n",
    "    current.next = ListNode(val)\n",
    "    current = current.next\n",
    "\n",
    "# 删除值为 6 的节点\n",
    "new_head = removeElements(head, 6)\n",
    "\n",
    "# 打印删除后的链表\n",
    "while new_head:\n",
    "    print(new_head.val, end=\" -> \")\n",
    "    new_head = new_head.next\n",
    "print(\"None\")"
   ]
  },
  {
   "cell_type": "markdown",
   "id": "9a438fb6",
   "metadata": {},
   "source": [
    "以上代码首先定义了一个 ListNode 类来表示链表节点。然后，实现了 removeElements 函数来删除链表中所有值为特定值的节点。最后，创建了一个链表，并调用 removeElements 函数来删除值为 6 的节点，并打印删除后的链表。"
   ]
  },
  {
   "cell_type": "markdown",
   "id": "17ee9dd1",
   "metadata": {},
   "source": [
    "### 奇偶链表"
   ]
  },
  {
   "cell_type": "markdown",
   "id": "ad84b4b0",
   "metadata": {},
   "source": [
    "要重新排列奇偶链表，可以将奇数位置的节点和偶数位置的节点分别提取出来，然后将偶数位置的节点连接到奇数位置的节点之后。最后，返回重排后的链表。"
   ]
  },
  {
   "cell_type": "markdown",
   "id": "4e847c55",
   "metadata": {},
   "source": [
    "解题的基本思路：\n",
    "\n",
    "1.使用两个指针 odd 和 even 分别指向奇数位置的节点和偶数位置的节点的头节点。\n",
    "2.遍历链表，将奇数位置的节点和偶数位置的节点分别连接成两个链表。\n",
    "3.将偶数链表连接到奇数链表的尾部。\n",
    "4.返回重排后的链表。"
   ]
  },
  {
   "cell_type": "code",
   "execution_count": 6,
   "id": "8807d832",
   "metadata": {},
   "outputs": [
    {
     "name": "stdout",
     "output_type": "stream",
     "text": [
      "1 -> 3 -> 5 -> 2 -> 4 -> None\n"
     ]
    }
   ],
   "source": [
    "class ListNode:\n",
    "    def __init__(self, val=0, next=None):\n",
    "        self.val = val\n",
    "        self.next = next\n",
    "\n",
    "def oddEvenList(head: ListNode) -> ListNode:\n",
    "    if not head or not head.next:\n",
    "        return head\n",
    "    \n",
    "    # 奇数位置的节点\n",
    "    odd = head\n",
    "    # 偶数位置的节点\n",
    "    even = head.next\n",
    "    # 偶数位置的头节点\n",
    "    even_head = even\n",
    "    \n",
    "    # 遍历链表，直到偶数位置的指针为空\n",
    "    while even and even.next:\n",
    "        # 奇数位置的下一个节点为偶数位置的下一个节点\n",
    "        odd.next = even.next\n",
    "        # 更新奇数位置的指针\n",
    "        odd = odd.next\n",
    "        # 偶数位置的下一个节点为奇数位置的下一个节点\n",
    "        even.next = odd.next\n",
    "        # 更新偶数位置的指针\n",
    "        even = even.next\n",
    "    \n",
    "    # 将偶数链表连接到奇数链表的尾部\n",
    "    odd.next = even_head\n",
    "    \n",
    "    return head\n",
    "\n",
    "# 测试代码\n",
    "# 构建链表 [1,2,3,4,5]\n",
    "head = ListNode(1)\n",
    "current = head\n",
    "for val in [2, 3, 4, 5]:\n",
    "    current.next = ListNode(val)\n",
    "    current = current.next\n",
    "\n",
    "# 重新排列链表\n",
    "new_head = oddEvenList(head)\n",
    "\n",
    "# 打印重排后的链表\n",
    "while new_head:\n",
    "    print(new_head.val, end=\" -> \")\n",
    "    new_head = new_head.next\n",
    "print(\"None\")"
   ]
  }
 ],
 "metadata": {
  "kernelspec": {
   "display_name": "Python 3 (ipykernel)",
   "language": "python",
   "name": "python3"
  },
  "language_info": {
   "codemirror_mode": {
    "name": "ipython",
    "version": 3
   },
   "file_extension": ".py",
   "mimetype": "text/x-python",
   "name": "python",
   "nbconvert_exporter": "python",
   "pygments_lexer": "ipython3",
   "version": "3.9.12"
  }
 },
 "nbformat": 4,
 "nbformat_minor": 5
}
